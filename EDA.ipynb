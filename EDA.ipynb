{
 "cells": [
  {
   "cell_type": "code",
   "execution_count": 1,
   "metadata": {},
   "outputs": [],
   "source": [
    "import json\n",
    "import os\n",
    "i=1\n",
    "with open(f'/media/scholar/Elements1/s2orc_part{i}') as f:\n",
    "    line = f.readline()\n",
    "    j = json.loads(line)"
   ]
  },
  {
   "cell_type": "code",
   "execution_count": 20,
   "metadata": {},
   "outputs": [
    {
     "data": {
      "text/plain": [
       "dict_keys(['corpusid', 'externalids', 'content'])"
      ]
     },
     "execution_count": 20,
     "metadata": {},
     "output_type": "execute_result"
    }
   ],
   "source": [
    "j.keys()"
   ]
  },
  {
   "cell_type": "code",
   "execution_count": 11,
   "metadata": {},
   "outputs": [
    {
     "data": {
      "text/plain": [
       "'We introduce bloomRF as a unified method for approximate membership testing that supports both pointand rangequeries on a single data structure. bloomRF extends Bloom-Filters with range query support and may replace them. The core idea is to employ a dyadic interval scheme to determine the set of dyadic intervals covering a data point, which are then encoded and inserted. bloomRF introduces Dyadic Trace-Trees as novel data structure that represents those covering intervals implicitly. A Trace-Tree encoding scheme represents the set of covering intervals efficiently, in a compact bit representation. Furthermore, bloomRF introduces novel piecewise-monotone hash functions that are locally orderpreserving and thus support range querying. We present an efficient membership computation method for range-queries. Although, bloomRF is designed for integers it also supports string and floating-point data types. It can also handle multiple attributes and serve as multi-attribute filter.We evaluate bloomRF in RocksDB and in a standalone library. bloomRF is more efficient and outperforms existing point-range-filters by up to 4× across a range of settings.'"
      ]
     },
     "execution_count": 11,
     "metadata": {},
     "output_type": "execute_result"
    }
   ],
   "source": [
    "# {\"end\":1651,\"start\":491}\n",
    "j['content']['text'][491:1651]"
   ]
  },
  {
   "cell_type": "code",
   "execution_count": 36,
   "metadata": {},
   "outputs": [
    {
     "data": {
      "text/plain": [
       "{'abstract': '[{\"end\":1651,\"start\":491}]',\n",
       " 'author': '[{\"end\":187,\"start\":125},{\"end\":249,\"start\":188},{\"end\":310,\"start\":250},{\"end\":367,\"start\":311}]',\n",
       " 'authoraffiliation': '[{\"end\":186,\"start\":144},{\"end\":248,\"start\":206},{\"end\":309,\"start\":267},{\"end\":366,\"start\":324}]',\n",
       " 'authorfirstname': '[{\"end\":134,\"start\":125},{\"end\":194,\"start\":188},{\"end\":258,\"start\":250},{\"end\":315,\"start\":311}]',\n",
       " 'authorlastname': '[{\"end\":142,\"start\":135},{\"end\":204,\"start\":195},{\"end\":265,\"start\":259},{\"end\":322,\"start\":316}]',\n",
       " 'bibauthor': '[{\"end\":50217,\"start\":50206},{\"end\":50229,\"start\":50217},{\"end\":50242,\"start\":50229},{\"end\":50489,\"start\":50478},{\"end\":50671,\"start\":50659},{\"end\":50686,\"start\":50671},{\"end\":50693,\"start\":50686},{\"end\":50709,\"start\":50693},{\"end\":50718,\"start\":50709},{\"end\":50961,\"start\":50950},{\"end\":50978,\"start\":50961},{\"end\":51216,\"start\":51205},{\"end\":51233,\"start\":51216},{\"end\":51470,\"start\":51461},{\"end\":51614,\"start\":51606},{\"end\":51629,\"start\":51614},{\"end\":51641,\"start\":51629},{\"end\":51656,\"start\":51641},{\"end\":52014,\"start\":52007},{\"end\":52028,\"start\":52014},{\"end\":52043,\"start\":52028},{\"end\":52052,\"start\":52043},{\"end\":52059,\"start\":52052},{\"end\":52069,\"start\":52059},{\"end\":52510,\"start\":52502},{\"end\":52517,\"start\":52510},{\"end\":52523,\"start\":52517},{\"end\":52531,\"start\":52523},{\"end\":52539,\"start\":52531},{\"end\":52931,\"start\":52925},{\"end\":53066,\"start\":53056},{\"end\":53074,\"start\":53066},{\"end\":53226,\"start\":53217},{\"end\":53233,\"start\":53226},{\"end\":53241,\"start\":53233},{\"end\":53255,\"start\":53241},{\"end\":53267,\"start\":53255},{\"end\":53277,\"start\":53267},{\"end\":53286,\"start\":53277}]',\n",
       " 'bibauthorfirstname': '[{\"end\":50207,\"start\":50206},{\"end\":50218,\"start\":50217},{\"end\":50233,\"start\":50229},{\"end\":50479,\"start\":50478},{\"end\":50481,\"start\":50480},{\"end\":50660,\"start\":50659},{\"end\":50662,\"start\":50661},{\"end\":50672,\"start\":50671},{\"end\":50687,\"start\":50686},{\"end\":50694,\"start\":50693},{\"end\":50710,\"start\":50709},{\"end\":50951,\"start\":50950},{\"end\":50962,\"start\":50961},{\"end\":51206,\"start\":51205},{\"end\":51217,\"start\":51216},{\"end\":51607,\"start\":51606},{\"end\":51615,\"start\":51614},{\"end\":51630,\"start\":51629},{\"end\":51642,\"start\":51641},{\"end\":52008,\"start\":52007},{\"end\":52015,\"start\":52014},{\"end\":52029,\"start\":52028},{\"end\":52044,\"start\":52043},{\"end\":52053,\"start\":52052},{\"end\":52060,\"start\":52059},{\"end\":52503,\"start\":52502},{\"end\":52511,\"start\":52510},{\"end\":52518,\"start\":52517},{\"end\":52524,\"start\":52523},{\"end\":52532,\"start\":52531},{\"end\":53057,\"start\":53056},{\"end\":53067,\"start\":53066},{\"end\":53218,\"start\":53217},{\"end\":53227,\"start\":53226},{\"end\":53234,\"start\":53233},{\"end\":53242,\"start\":53241},{\"end\":53244,\"start\":53243},{\"end\":53256,\"start\":53255},{\"end\":53268,\"start\":53267},{\"end\":53278,\"start\":53277}]',\n",
       " 'bibauthorlastname': '[{\"end\":50215,\"start\":50208},{\"end\":50227,\"start\":50219},{\"end\":50240,\"start\":50234},{\"end\":50487,\"start\":50482},{\"end\":50669,\"start\":50663},{\"end\":50684,\"start\":50673},{\"end\":50691,\"start\":50688},{\"end\":50707,\"start\":50695},{\"end\":50716,\"start\":50711},{\"end\":50959,\"start\":50952},{\"end\":50976,\"start\":50963},{\"end\":51214,\"start\":51207},{\"end\":51231,\"start\":51218},{\"end\":51468,\"start\":51461},{\"end\":51612,\"start\":51608},{\"end\":51627,\"start\":51616},{\"end\":51639,\"start\":51631},{\"end\":51654,\"start\":51643},{\"end\":52012,\"start\":52009},{\"end\":52026,\"start\":52016},{\"end\":52041,\"start\":52030},{\"end\":52050,\"start\":52045},{\"end\":52057,\"start\":52054},{\"end\":52067,\"start\":52061},{\"end\":52508,\"start\":52504},{\"end\":52515,\"start\":52512},{\"end\":52521,\"start\":52519},{\"end\":52529,\"start\":52525},{\"end\":52537,\"start\":52533},{\"end\":52929,\"start\":52925},{\"end\":53064,\"start\":53058},{\"end\":53072,\"start\":53068},{\"end\":53224,\"start\":53219},{\"end\":53231,\"start\":53228},{\"end\":53239,\"start\":53235},{\"end\":53253,\"start\":53245},{\"end\":53265,\"start\":53257},{\"end\":53275,\"start\":53269},{\"end\":53284,\"start\":53279}]',\n",
       " 'bibentry': '[{\"attributes\":{\"id\":\"b0\",\"matched_paper_id\":17295242},\"end\":50416,\"start\":50141},{\"attributes\":{\"id\":\"b1\",\"matched_paper_id\":7931252},\"end\":50611,\"start\":50418},{\"attributes\":{\"id\":\"b2\",\"matched_paper_id\":2589691},\"end\":50872,\"start\":50613},{\"attributes\":{\"id\":\"b3\",\"matched_paper_id\":999108},\"end\":51134,\"start\":50874},{\"attributes\":{\"id\":\"b4\",\"matched_paper_id\":6709064},\"end\":51418,\"start\":51136},{\"attributes\":{\"id\":\"b5\"},\"end\":51572,\"start\":51420},{\"attributes\":{\"id\":\"b6\",\"matched_paper_id\":61070529},\"end\":51931,\"start\":51574},{\"attributes\":{\"id\":\"b7\"},\"end\":52234,\"start\":51933},{\"attributes\":{\"id\":\"b8\"},\"end\":52432,\"start\":52236},{\"attributes\":{\"id\":\"b9\",\"matched_paper_id\":3803564},\"end\":52695,\"start\":52434},{\"attributes\":{\"id\":\"b10\"},\"end\":52895,\"start\":52697},{\"attributes\":{\"id\":\"b11\"},\"end\":53005,\"start\":52897},{\"attributes\":{\"id\":\"b12\"},\"end\":53151,\"start\":53007},{\"attributes\":{\"id\":\"b13\"},\"end\":53458,\"start\":53153}]',\n",
       " 'bibref': '[{\"attributes\":{\"ref_id\":\"b12\"},\"end\":1727,\"start\":1723},{\"attributes\":{\"ref_id\":\"b1\"},\"end\":2258,\"start\":2255},{\"attributes\":{\"ref_id\":\"b7\"},\"end\":3557,\"start\":3554},{\"attributes\":{\"ref_id\":\"b13\"},\"end\":3568,\"start\":3564},{\"attributes\":{\"ref_id\":\"b0\"},\"end\":3580,\"start\":3577},{\"attributes\":{\"ref_id\":\"b0\"},\"end\":3722,\"start\":3719},{\"attributes\":{\"ref_id\":\"b13\"},\"end\":3736,\"start\":3732},{\"attributes\":{\"ref_id\":\"b7\"},\"end\":4038,\"start\":4035},{\"attributes\":{\"ref_id\":\"b6\"},\"end\":4189,\"start\":4186},{\"attributes\":{\"ref_id\":\"b7\"},\"end\":4568,\"start\":4565},{\"attributes\":{\"ref_id\":\"b5\"},\"end\":4609,\"start\":4608},{\"attributes\":{\"ref_id\":\"b13\"},\"end\":4622,\"start\":4618},{\"end\":4687,\"start\":4675},{\"attributes\":{\"ref_id\":\"b0\"},\"end\":5191,\"start\":5188},{\"attributes\":{\"ref_id\":\"b13\"},\"end\":5202,\"start\":5198},{\"attributes\":{\"ref_id\":\"b7\"},\"end\":5219,\"start\":5216},{\"attributes\":{\"ref_id\":\"b7\"},\"end\":5785,\"start\":5782},{\"attributes\":{\"ref_id\":\"b7\"},\"end\":6037,\"start\":6034},{\"attributes\":{\"ref_id\":\"b0\"},\"end\":11256,\"start\":11255},{\"attributes\":{\"ref_id\":\"b0\"},\"end\":11807,\"start\":11806},{\"end\":12160,\"start\":12155},{\"end\":12164,\"start\":12160},{\"end\":12469,\"start\":12464},{\"end\":12473,\"start\":12469},{\"end\":12480,\"start\":12475},{\"end\":12484,\"start\":12480},{\"attributes\":{\"ref_id\":\"b13\"},\"end\":30118,\"start\":30114},{\"attributes\":{\"ref_id\":\"b7\"},\"end\":32162,\"start\":32159},{\"attributes\":{\"ref_id\":\"b11\"},\"end\":32356,\"start\":32352},{\"end\":32359,\"start\":32356},{\"attributes\":{\"ref_id\":\"b13\"},\"end\":32362,\"start\":32359},{\"attributes\":{\"ref_id\":\"b7\"},\"end\":32378,\"start\":32375},{\"attributes\":{\"ref_id\":\"b2\"},\"end\":32740,\"start\":32737},{\"attributes\":{\"ref_id\":\"b8\"},\"end\":33746,\"start\":33743},{\"attributes\":{\"ref_id\":\"b10\"},\"end\":33855,\"start\":33851},{\"attributes\":{\"ref_id\":\"b5\"},\"end\":33962,\"start\":33959},{\"attributes\":{\"ref_id\":\"b5\"},\"end\":38263,\"start\":38260},{\"attributes\":{\"ref_id\":\"b8\"},\"end\":38787,\"start\":38784},{\"attributes\":{\"ref_id\":\"b10\"},\"end\":39339,\"start\":39335},{\"attributes\":{\"ref_id\":\"b0\"},\"end\":40548,\"start\":40545},{\"attributes\":{\"ref_id\":\"b13\"},\"end\":40910,\"start\":40906},{\"attributes\":{\"ref_id\":\"b7\"},\"end\":41282,\"start\":41279},{\"attributes\":{\"ref_id\":\"b3\"},\"end\":41408,\"start\":41405},{\"attributes\":{\"ref_id\":\"b4\"},\"end\":41449,\"start\":41446},{\"attributes\":{\"ref_id\":\"b9\"},\"end\":41477,\"start\":41473},{\"attributes\":{\"ref_id\":\"b7\"},\"end\":41499,\"start\":41496},{\"attributes\":{\"ref_id\":\"b3\"},\"end\":41535,\"start\":41532},{\"attributes\":{\"ref_id\":\"b7\"},\"end\":41537,\"start\":41535},{\"attributes\":{\"ref_id\":\"b9\"},\"end\":41540,\"start\":41537},{\"attributes\":{\"ref_id\":\"b3\"},\"end\":41806,\"start\":41803},{\"attributes\":{\"ref_id\":\"b7\"},\"end\":41808,\"start\":41806},{\"attributes\":{\"ref_id\":\"b9\"},\"end\":41811,\"start\":41808},{\"attributes\":{\"ref_id\":\"b7\"},\"end\":42028,\"start\":42025},{\"attributes\":{\"ref_id\":\"b9\"},\"end\":42041,\"start\":42037}]',\n",
       " 'bibtitle': '[{\"end\":50204,\"start\":50141},{\"end\":50476,\"start\":50418},{\"end\":50657,\"start\":50613},{\"end\":50948,\"start\":50874},{\"end\":51203,\"start\":51136},{\"end\":51604,\"start\":51574},{\"end\":52500,\"start\":52434}]',\n",
       " 'bibvenue': '[{\"end\":50258,\"start\":50242},{\"end\":50500,\"start\":50489},{\"end\":50728,\"start\":50718},{\"end\":50991,\"start\":50978},{\"end\":51257,\"start\":51233},{\"end\":51459,\"start\":51420},{\"end\":51707,\"start\":51656},{\"end\":52005,\"start\":51933},{\"end\":52281,\"start\":52236},{\"end\":52551,\"start\":52539},{\"end\":52741,\"start\":52697},{\"end\":52923,\"start\":52897},{\"end\":53054,\"start\":53007},{\"end\":53215,\"start\":53153},{\"end\":50270,\"start\":50260},{\"end\":50734,\"start\":50730},{\"end\":51726,\"start\":51709},{\"end\":52559,\"start\":52553}]',\n",
       " 'figure': '[{\"attributes\":{\"id\":\"fig_0\"},\"end\":42700,\"start\":42596},{\"attributes\":{\"id\":\"fig_2\"},\"end\":43258,\"start\":42701},{\"attributes\":{\"id\":\"fig_3\"},\"end\":43505,\"start\":43259},{\"attributes\":{\"id\":\"fig_4\"},\"end\":44328,\"start\":43506},{\"attributes\":{\"id\":\"fig_5\"},\"end\":44679,\"start\":44329},{\"attributes\":{\"id\":\"fig_6\"},\"end\":44891,\"start\":44680},{\"attributes\":{\"id\":\"fig_7\"},\"end\":45545,\"start\":44892},{\"attributes\":{\"id\":\"fig_8\"},\"end\":46385,\"start\":45546},{\"attributes\":{\"id\":\"fig_9\"},\"end\":46915,\"start\":46386},{\"attributes\":{\"id\":\"fig_10\"},\"end\":47017,\"start\":46916},{\"attributes\":{\"id\":\"fig_11\"},\"end\":47275,\"start\":47018},{\"attributes\":{\"id\":\"fig_12\"},\"end\":47391,\"start\":47276},{\"attributes\":{\"id\":\"fig_13\"},\"end\":47447,\"start\":47392},{\"attributes\":{\"id\":\"fig_14\"},\"end\":47503,\"start\":47448},{\"attributes\":{\"id\":\"fig_15\"},\"end\":47601,\"start\":47504},{\"attributes\":{\"id\":\"tab_2\",\"type\":\"table\"},\"end\":48155,\"start\":47602},{\"attributes\":{\"id\":\"tab_3\",\"type\":\"table\"},\"end\":49027,\"start\":48156},{\"attributes\":{\"id\":\"tab_4\",\"type\":\"table\"},\"end\":49083,\"start\":49028},{\"attributes\":{\"id\":\"tab_5\",\"type\":\"table\"},\"end\":49273,\"start\":49084},{\"attributes\":{\"id\":\"tab_7\",\"type\":\"table\"},\"end\":49831,\"start\":49274}]',\n",
       " 'figurecaption': '[{\"end\":42700,\"start\":42609},{\"end\":43258,\"start\":42703},{\"end\":43505,\"start\":43272},{\"end\":44328,\"start\":43508},{\"end\":44679,\"start\":44353},{\"end\":44891,\"start\":44682},{\"end\":45545,\"start\":44894},{\"end\":46385,\"start\":45548},{\"end\":46915,\"start\":46388},{\"end\":47017,\"start\":46929},{\"end\":47275,\"start\":47031},{\"end\":47391,\"start\":47289},{\"end\":47447,\"start\":47405},{\"end\":47503,\"start\":47463},{\"end\":47601,\"start\":47519},{\"end\":48155,\"start\":47604},{\"end\":49027,\"start\":48158},{\"end\":49063,\"start\":49040},{\"end\":49219,\"start\":49086},{\"end\":49414,\"start\":49286}]',\n",
       " 'figureref': '[{\"end\":9111,\"start\":9103},{\"end\":9338,\"start\":9328},{\"end\":9407,\"start\":9401},{\"end\":9559,\"start\":9553},{\"end\":9912,\"start\":9904},{\"end\":10952,\"start\":10943},{\"end\":10959,\"start\":10953},{\"end\":11238,\"start\":11232},{\"end\":11369,\"start\":11362},{\"end\":11560,\"start\":11553},{\"end\":11844,\"start\":11837},{\"end\":12080,\"start\":12073},{\"end\":12532,\"start\":12526},{\"end\":12580,\"start\":12574},{\"attributes\":{\"ref_id\":\"fig_3\"},\"end\":13550,\"start\":13544},{\"attributes\":{\"ref_id\":\"fig_3\"},\"end\":13982,\"start\":13976},{\"attributes\":{\"ref_id\":\"fig_3\"},\"end\":14727,\"start\":14720},{\"attributes\":{\"ref_id\":\"fig_0\"},\"end\":14981,\"start\":14972},{\"attributes\":{\"ref_id\":\"fig_0\"},\"end\":15157,\"start\":15148},{\"end\":16020,\"start\":16012},{\"end\":16771,\"start\":16765},{\"end\":16978,\"start\":16962},{\"attributes\":{\"ref_id\":\"fig_3\"},\"end\":17276,\"start\":17267},{\"end\":17896,\"start\":17889},{\"end\":18196,\"start\":18190},{\"attributes\":{\"ref_id\":\"fig_11\"},\"end\":18502,\"start\":18496},{\"attributes\":{\"ref_id\":\"fig_0\"},\"end\":18728,\"start\":18703},{\"end\":19789,\"start\":19783},{\"attributes\":{\"ref_id\":\"fig_10\"},\"end\":20874,\"start\":20864},{\"attributes\":{\"ref_id\":\"fig_11\"},\"end\":21992,\"start\":21982},{\"attributes\":{\"ref_id\":\"fig_11\"},\"end\":22489,\"start\":22481},{\"end\":22684,\"start\":22674},{\"attributes\":{\"ref_id\":\"fig_11\"},\"end\":24042,\"start\":24035},{\"attributes\":{\"ref_id\":\"fig_11\"},\"end\":24601,\"start\":24595},{\"attributes\":{\"ref_id\":\"fig_11\"},\"end\":25260,\"start\":25251},{\"attributes\":{\"ref_id\":\"fig_11\"},\"end\":29428,\"start\":29421},{\"end\":34395,\"start\":34389},{\"end\":34446,\"start\":34439},{\"end\":34917,\"start\":34911},{\"attributes\":{\"ref_id\":\"fig_12\"},\"end\":35172,\"start\":35166},{\"attributes\":{\"ref_id\":\"fig_12\"},\"end\":35667,\"start\":35660},{\"attributes\":{\"ref_id\":\"fig_12\"},\"end\":35914,\"start\":35902},{\"attributes\":{\"ref_id\":\"fig_12\"},\"end\":35967,\"start\":35960},{\"attributes\":{\"ref_id\":\"fig_12\"},\"end\":36358,\"start\":36351},{\"attributes\":{\"ref_id\":\"fig_12\"},\"end\":36698,\"start\":36691},{\"attributes\":{\"ref_id\":\"fig_13\"},\"end\":37284,\"start\":37277},{\"attributes\":{\"ref_id\":\"fig_13\"},\"end\":37460,\"start\":37451},{\"attributes\":{\"ref_id\":\"fig_13\"},\"end\":37976,\"start\":37967},{\"attributes\":{\"ref_id\":\"fig_0\"},\"end\":38444,\"start\":38437},{\"attributes\":{\"ref_id\":\"fig_0\"},\"end\":39032,\"start\":39025},{\"attributes\":{\"ref_id\":\"fig_0\"},\"end\":39909,\"start\":39902}]',\n",
       " 'formula': '[{\"attributes\":{\"id\":\"formula_0\"},\"end\":13156,\"start\":13110},{\"attributes\":{\"id\":\"formula_1\"},\"end\":13241,\"start\":13156},{\"attributes\":{\"id\":\"formula_2\"},\"end\":15266,\"start\":15175},{\"attributes\":{\"id\":\"formula_3\"},\"end\":15290,\"start\":15266},{\"attributes\":{\"id\":\"formula_4\"},\"end\":15453,\"start\":15397},{\"attributes\":{\"id\":\"formula_5\"},\"end\":16439,\"start\":16347},{\"attributes\":{\"id\":\"formula_6\"},\"end\":18060,\"start\":17935}]',\n",
       " 'paragraph': '[{\"end\":2088,\"start\":1667},{\"end\":3544,\"start\":2090},{\"end\":8655,\"start\":3546},{\"end\":9012,\"start\":8657},{\"end\":9188,\"start\":9025},{\"end\":9562,\"start\":9190},{\"end\":10244,\"start\":9564},{\"end\":10346,\"start\":10246},{\"end\":10879,\"start\":10348},{\"end\":11048,\"start\":10881},{\"end\":11754,\"start\":11050},{\"end\":11971,\"start\":11756},{\"end\":12581,\"start\":11973},{\"end\":13109,\"start\":12606},{\"end\":13317,\"start\":13242},{\"end\":14323,\"start\":13319},{\"end\":15174,\"start\":14325},{\"end\":15396,\"start\":15291},{\"end\":16045,\"start\":15454},{\"end\":16346,\"start\":16047},{\"end\":16598,\"start\":16440},{\"end\":17022,\"start\":16600},{\"end\":17550,\"start\":17024},{\"end\":17934,\"start\":17552},{\"end\":18729,\"start\":18082},{\"end\":19510,\"start\":18731},{\"end\":20093,\"start\":19512},{\"end\":20658,\"start\":20111},{\"end\":21579,\"start\":20660},{\"end\":22150,\"start\":21581},{\"end\":22988,\"start\":22152},{\"end\":23390,\"start\":22990},{\"end\":23451,\"start\":23392},{\"end\":26125,\"start\":23453},{\"end\":27218,\"start\":26127},{\"end\":30006,\"start\":27220},{\"end\":30811,\"start\":30027},{\"end\":31139,\"start\":30813},{\"end\":31850,\"start\":31141},{\"end\":32163,\"start\":31878},{\"end\":32621,\"start\":32165},{\"end\":34852,\"start\":32623},{\"end\":34975,\"start\":34854},{\"end\":35577,\"start\":34977},{\"end\":35915,\"start\":35579},{\"end\":36331,\"start\":35917},{\"end\":36608,\"start\":36333},{\"end\":39081,\"start\":36610},{\"end\":39888,\"start\":39083},{\"end\":40496,\"start\":39890},{\"end\":41167,\"start\":40513},{\"end\":42076,\"start\":41169},{\"end\":42595,\"start\":42092}]',\n",
       " 'publisher': None,\n",
       " 'sectionheader': '[{\"attributes\":{\"n\":\"1\"},\"end\":1665,\"start\":1653},{\"attributes\":{\"n\":\"2\"},\"end\":9023,\"start\":9015},{\"attributes\":{\"n\":\"3\"},\"end\":12604,\"start\":12584},{\"attributes\":{\"n\":\"4\"},\"end\":18080,\"start\":18062},{\"attributes\":{\"n\":\"5\"},\"end\":20109,\"start\":20096},{\"attributes\":{\"n\":\"7\"},\"end\":30025,\"start\":30009},{\"attributes\":{\"n\":\"8\"},\"end\":31876,\"start\":31853},{\"attributes\":{\"n\":\"9\"},\"end\":40511,\"start\":40499},{\"attributes\":{\"n\":\"10\"},\"end\":42090,\"start\":42079},{\"end\":42607,\"start\":42597},{\"end\":43270,\"start\":43260},{\"end\":44350,\"start\":44330},{\"end\":46927,\"start\":46917},{\"end\":47029,\"start\":47019},{\"end\":47287,\"start\":47277},{\"end\":47403,\"start\":47393},{\"end\":47460,\"start\":47449},{\"end\":47516,\"start\":47505},{\"end\":49038,\"start\":49029},{\"end\":49284,\"start\":49275}]',\n",
       " 'table': '[{\"end\":49083,\"start\":49063},{\"end\":49273,\"start\":49219},{\"end\":49831,\"start\":49414}]',\n",
       " 'tableref': '[{\"attributes\":{\"ref_id\":\"tab_4\"},\"end\":24521,\"start\":24299},{\"attributes\":{\"ref_id\":\"tab_7\"},\"end\":29930,\"start\":29923}]',\n",
       " 'title': '[{\"end\":122,\"start\":1},{\"end\":489,\"start\":368}]',\n",
       " 'venue': None}"
      ]
     },
     "execution_count": 36,
     "metadata": {},
     "output_type": "execute_result"
    }
   ],
   "source": [
    "j['content']['annotations']"
   ]
  },
  {
   "cell_type": "code",
   "execution_count": 34,
   "metadata": {},
   "outputs": [
    {
     "data": {
      "text/plain": [
       "'[{\"end\":1651,\"start\":491}]'"
      ]
     },
     "execution_count": 34,
     "metadata": {},
     "output_type": "execute_result"
    }
   ],
   "source": [
    "j['content']['annotations']['abstract']"
   ]
  }
 ],
 "metadata": {
  "kernelspec": {
   "display_name": "language_modelling",
   "language": "python",
   "name": "python3"
  },
  "language_info": {
   "codemirror_mode": {
    "name": "ipython",
    "version": 3
   },
   "file_extension": ".py",
   "mimetype": "text/x-python",
   "name": "python",
   "nbconvert_exporter": "python",
   "pygments_lexer": "ipython3",
   "version": "3.9.12"
  }
 },
 "nbformat": 4,
 "nbformat_minor": 2
}
