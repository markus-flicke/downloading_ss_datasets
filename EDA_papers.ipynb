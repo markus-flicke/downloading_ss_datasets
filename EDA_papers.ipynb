{
 "cells": [
  {
   "cell_type": "code",
   "execution_count": 7,
   "metadata": {},
   "outputs": [
    {
     "data": {
      "text/plain": [
       "{'authorid': '40690022',\n",
       " 'externalids': {'DBLP': ['Dongsheng Wu'], 'ORCID': None},\n",
       " 'url': 'https://www.semanticscholar.org/author/40690022',\n",
       " 'name': 'Dongsheng Wu',\n",
       " 'aliases': ['Dongshen Wu'],\n",
       " 'affiliations': None,\n",
       " 'homepage': None,\n",
       " 'papercount': 9,\n",
       " 'citationcount': 1,\n",
       " 'hindex': 1}"
      ]
     },
     "execution_count": 7,
     "metadata": {},
     "output_type": "execute_result"
    }
   ],
   "source": [
    "import json\n",
    "import os\n",
    "i=1\n",
    "device_name = 'cca30a4f-fb5b-4ec5-9bca-8f51dad1364c'\n",
    "with open(f'/media/scholar/{device_name}/papers/papers_part{i}') as f:\n",
    "    \n",
    "    line = f.readline()\n",
    "    j = json.loads(line)\n",
    "    while j['externalids'] is None:\n",
    "        line = f.readline()\n",
    "        j = json.loads(line)\n",
    "j"
   ]
  },
  {
   "cell_type": "code",
   "execution_count": null,
   "metadata": {},
   "outputs": [],
   "source": []
  }
 ],
 "metadata": {
  "kernelspec": {
   "display_name": "language_modelling",
   "language": "python",
   "name": "python3"
  },
  "language_info": {
   "codemirror_mode": {
    "name": "ipython",
    "version": 3
   },
   "file_extension": ".py",
   "mimetype": "text/x-python",
   "name": "python",
   "nbconvert_exporter": "python",
   "pygments_lexer": "ipython3",
   "version": "3.9.12"
  }
 },
 "nbformat": 4,
 "nbformat_minor": 2
}
