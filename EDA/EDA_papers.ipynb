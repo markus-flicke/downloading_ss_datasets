{
 "cells": [
  {
   "cell_type": "code",
   "execution_count": 1,
   "metadata": {},
   "outputs": [
    {
     "data": {
      "text/plain": [
       "{'corpusid': 211932277,\n",
       " 'externalids': {'ACL': None,\n",
       "  'DBLP': None,\n",
       "  'ArXiv': None,\n",
       "  'MAG': '609515471',\n",
       "  'CorpusId': '211932277',\n",
       "  'PubMed': None,\n",
       "  'DOI': None,\n",
       "  'PubMedCentral': None},\n",
       " 'url': 'https://www.semanticscholar.org/paper/5c4f9011bd84152fcef6669e6099f2dd9882af29',\n",
       " 'title': '医系学生の先天異常・出生前診断に対する意識調査 : 医学倫理教育への示唆',\n",
       " 'authors': [{'authorId': '77672491', 'name': '加藤 智美'},\n",
       "  {'authorId': '52238866', 'name': '鈴木 康之'}],\n",
       " 'venue': '',\n",
       " 'publicationvenueid': None,\n",
       " 'year': 2005,\n",
       " 'referencecount': 0,\n",
       " 'citationcount': 0,\n",
       " 'influentialcitationcount': 0,\n",
       " 'isopenaccess': False,\n",
       " 's2fieldsofstudy': None,\n",
       " 'publicationtypes': None,\n",
       " 'publicationdate': '2005-02-25',\n",
       " 'journal': None}"
      ]
     },
     "execution_count": 1,
     "metadata": {},
     "output_type": "execute_result"
    }
   ],
   "source": [
    "import json\n",
    "import os\n",
    "i=1\n",
    "device_name = 'cca30a4f-fb5b-4ec5-9bca-8f51dad1364c'\n",
    "with open(f'/media/scholar/{device_name}/papers/papers_part{i}') as f:\n",
    "    \n",
    "    line = f.readline()\n",
    "    j = json.loads(line)\n",
    "    # while j['externalids'] is None:\n",
    "    #     line = f.readline()\n",
    "    #     j = json.loads(line)\n",
    "j"
   ]
  },
  {
   "cell_type": "code",
   "execution_count": null,
   "metadata": {},
   "outputs": [],
   "source": []
  }
 ],
 "metadata": {
  "kernelspec": {
   "display_name": "language_modelling",
   "language": "python",
   "name": "python3"
  },
  "language_info": {
   "codemirror_mode": {
    "name": "ipython",
    "version": 3
   },
   "file_extension": ".py",
   "mimetype": "text/x-python",
   "name": "python",
   "nbconvert_exporter": "python",
   "pygments_lexer": "ipython3",
   "version": "3.9.12"
  }
 },
 "nbformat": 4,
 "nbformat_minor": 2
}
