{
 "cells": [
  {
   "cell_type": "code",
   "execution_count": 3,
   "metadata": {},
   "outputs": [
    {
     "data": {
      "text/plain": [
       "{'citationid': 1013375413,\n",
       " 'citingcorpusid': 3860040,\n",
       " 'citedcorpusid': 5928033,\n",
       " 'isinfluential': False,\n",
       " 'contexts': ['These relationships have been exploited as contextual models for improving the accuracy of labeling [37], [38], [39], [40].'],\n",
       " 'intents': [['methodology']]}"
      ]
     },
     "execution_count": 3,
     "metadata": {},
     "output_type": "execute_result"
    }
   ],
   "source": [
    "import json\n",
    "import os\n",
    "i=1\n",
    "with open(f'/media/scholar/Elements1/citations/citations_part{i}') as f:\n",
    "    \n",
    "    line = f.readline()\n",
    "    j = json.loads(line)\n",
    "    while j['contexts'] is None:\n",
    "        line = f.readline()\n",
    "        j = json.loads(line)\n",
    "j"
   ]
  },
  {
   "cell_type": "code",
   "execution_count": null,
   "metadata": {},
   "outputs": [],
   "source": []
  }
 ],
 "metadata": {
  "kernelspec": {
   "display_name": "language_modelling",
   "language": "python",
   "name": "python3"
  },
  "language_info": {
   "codemirror_mode": {
    "name": "ipython",
    "version": 3
   },
   "file_extension": ".py",
   "mimetype": "text/x-python",
   "name": "python",
   "nbconvert_exporter": "python",
   "pygments_lexer": "ipython3",
   "version": "3.9.12"
  }
 },
 "nbformat": 4,
 "nbformat_minor": 2
}
