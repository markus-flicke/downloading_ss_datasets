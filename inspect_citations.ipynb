{
 "cells": [
  {
   "cell_type": "code",
   "execution_count": 1,
   "metadata": {},
   "outputs": [
    {
     "name": "stdout",
     "output_type": "stream",
     "text": [
      "2181392\n"
     ]
    }
   ],
   "source": [
    "import os\n",
    "import pickle\n",
    "\n",
    "\n",
    "with open('res.pkl', 'rb') as f:\n",
    "    res = pickle.load(f)\n",
    "    print(len(res))"
   ]
  },
  {
   "cell_type": "code",
   "execution_count": 8,
   "metadata": {},
   "outputs": [
    {
     "name": "stderr",
     "output_type": "stream",
     "text": [
      "100%|██████████| 2181392/2181392 [00:00<00:00, 3349977.31it/s]\n"
     ]
    }
   ],
   "source": [
    "corpus_ids_to_look_up = []\n",
    "corpus_ids_to_look_up.extend(res.keys())\n",
    "from tqdm import tqdm\n",
    "values = [v for l in res.values() for v in l]\n",
    "for values in tqdm(res.values()):\n",
    "    corpus_ids_to_look_up.extend(values)\n"
   ]
  },
  {
   "cell_type": "code",
   "execution_count": null,
   "metadata": {},
   "outputs": [],
   "source": [
    "corpus_ids_to_look_up = set(corpus_ids_to_look_up)\n"
   ]
  },
  {
   "cell_type": "code",
   "execution_count": 12,
   "metadata": {},
   "outputs": [],
   "source": [
    "cid_to_date = dict(keys = corpus_ids_to_look_up)"
   ]
  }
 ],
 "metadata": {
  "kernelspec": {
   "display_name": "scholar_inbox",
   "language": "python",
   "name": "python3"
  },
  "language_info": {
   "codemirror_mode": {
    "name": "ipython",
    "version": 3
   },
   "file_extension": ".py",
   "mimetype": "text/x-python",
   "name": "python",
   "nbconvert_exporter": "python",
   "pygments_lexer": "ipython3",
   "version": "3.9.18"
  }
 },
 "nbformat": 4,
 "nbformat_minor": 2
}
